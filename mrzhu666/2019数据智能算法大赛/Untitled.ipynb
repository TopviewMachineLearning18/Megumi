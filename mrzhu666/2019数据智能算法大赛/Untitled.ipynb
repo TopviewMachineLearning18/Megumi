{
 "cells": [
  {
   "cell_type": "markdown",
   "metadata": {
    "heading_collapsed": true
   },
   "source": [
    "## 赛题：商家客户购买转化率预测\n",
    "- 预测所有已购客户在未来180天的购买概率"
   ]
  },
  {
   "cell_type": "code",
   "execution_count": 2,
   "metadata": {
    "ExecuteTime": {
     "end_time": "2019-10-05T15:52:48.675330Z",
     "start_time": "2019-10-05T15:52:48.668374Z"
    },
    "hidden": true
   },
   "outputs": [
    {
     "data": {
      "text/plain": [
       "<module 'pso' from 'D:\\\\jupyter notebook\\\\algorithm\\\\pso.py'>"
      ]
     },
     "execution_count": 2,
     "metadata": {},
     "output_type": "execute_result"
    }
   ],
   "source": [
    "import pandas as pd\n",
    "import numpy as np\n",
    "from tqdm._tqdm_notebook import tqdm_notebook\n",
    "import pso\n",
    "import matplotlib.pyplot as plt\n",
    "import seaborn as sns\n",
    "\n",
    "import importlib\n",
    "importlib.reload(pso)                                  # 重新加载库文件"
   ]
  },
  {
   "cell_type": "code",
   "execution_count": 3,
   "metadata": {
    "ExecuteTime": {
     "end_time": "2019-10-05T15:52:54.979011Z",
     "start_time": "2019-10-05T15:52:51.463319Z"
    },
    "hidden": true
   },
   "outputs": [],
   "source": [
    "import bayesian\n",
    "from bayes_opt import BayesianOptimization\n",
    "import xgboost\n",
    "\n",
    "from sklearn.metrics import mean_squared_error\n",
    "from sklearn.preprocessing import RobustScaler\n",
    "from sklearn.pipeline import make_pipeline\n",
    "from sklearn.model_selection import cross_val_score\n",
    "from sklearn.model_selection import train_test_split\n",
    "from sklearn.preprocessing import StandardScaler\n",
    "from sklearn.base import BaseEstimator\n",
    "from sklearn.model_selection import KFold"
   ]
  },
  {
   "cell_type": "markdown",
   "metadata": {},
   "source": [
    "## 特征工程"
   ]
  },
  {
   "cell_type": "code",
   "execution_count": 7,
   "metadata": {
    "ExecuteTime": {
     "end_time": "2019-10-05T15:55:06.501567Z",
     "start_time": "2019-10-05T15:54:50.519149Z"
    }
   },
   "outputs": [
    {
     "name": "stderr",
     "output_type": "stream",
     "text": [
      "e:\\Anaconda3\\lib\\site-packages\\IPython\\core\\interactiveshell.py:3020: DtypeWarning: Columns (15,16) have mixed types. Specify dtype option on import or set low_memory=False.\n",
      "  interactivity=interactivity, compiler=compiler, result=result)\n"
     ]
    }
   ],
   "source": [
    "train_x=pd.read_csv(\"data/round1_diac2019_train.csv\")"
   ]
  },
  {
   "cell_type": "code",
   "execution_count": 4,
   "metadata": {
    "ExecuteTime": {
     "end_time": "2019-10-05T10:40:39.468603Z",
     "start_time": "2019-10-05T10:40:39.461623Z"
    }
   },
   "outputs": [
    {
     "data": {
      "text/plain": [
       "Index(['order_detail_id', 'order_id', 'order_total_num', 'order_amount',\n",
       "       'order_total_payment', 'order_total_discount', 'order_pay_time',\n",
       "       'order_status', 'order_count', 'is_customer_rate',\n",
       "       'order_detail_status', 'order_detail_goods_num', 'order_detail_amount',\n",
       "       'order_detail_payment', 'order_detail_discount', 'customer_province',\n",
       "       'customer_city', 'member_id', 'customer_id', 'customer_gender',\n",
       "       'member_status', 'is_member_actived', 'goods_id', 'goods_price',\n",
       "       'goods_status', 'goods_has_discount', 'goods_list_time',\n",
       "       'goods_delist_time'],\n",
       "      dtype='object')"
      ]
     },
     "execution_count": 4,
     "metadata": {},
     "output_type": "execute_result"
    }
   ],
   "source": [
    "train_x.columns"
   ]
  },
  {
   "cell_type": "code",
   "execution_count": 12,
   "metadata": {
    "ExecuteTime": {
     "end_time": "2019-10-04T14:08:57.089572Z",
     "start_time": "2019-10-04T14:08:57.020792Z"
    }
   },
   "outputs": [
    {
     "data": {
      "text/plain": [
       "1250068"
      ]
     },
     "execution_count": 12,
     "metadata": {},
     "output_type": "execute_result"
    }
   ],
   "source": [
    "len(train_x['order_id'].unique())"
   ]
  },
  {
   "cell_type": "code",
   "execution_count": 11,
   "metadata": {
    "ExecuteTime": {
     "end_time": "2019-10-04T14:06:46.762114Z",
     "start_time": "2019-10-04T14:06:46.746183Z"
    }
   },
   "outputs": [
    {
     "data": {
      "text/plain": [
       "378"
      ]
     },
     "execution_count": 11,
     "metadata": {},
     "output_type": "execute_result"
    }
   ],
   "source": [
    "len(train_x['goods_id'].unique())"
   ]
  },
  {
   "cell_type": "code",
   "execution_count": 9,
   "metadata": {
    "ExecuteTime": {
     "end_time": "2019-10-04T14:05:58.808968Z",
     "start_time": "2019-10-04T14:05:58.755104Z"
    }
   },
   "outputs": [
    {
     "data": {
      "text/plain": [
       "293572"
      ]
     },
     "execution_count": 9,
     "metadata": {},
     "output_type": "execute_result"
    }
   ],
   "source": [
    "len(train_x['member_id'].unique())"
   ]
  },
  {
   "cell_type": "code",
   "execution_count": 10,
   "metadata": {
    "ExecuteTime": {
     "end_time": "2019-10-04T14:06:24.601028Z",
     "start_time": "2019-10-04T14:06:24.532214Z"
    }
   },
   "outputs": [
    {
     "data": {
      "text/plain": [
       "929808"
      ]
     },
     "execution_count": 10,
     "metadata": {},
     "output_type": "execute_result"
    }
   ],
   "source": [
    "len(train_x['customer_id'].unique())"
   ]
  },
  {
   "cell_type": "code",
   "execution_count": 17,
   "metadata": {
    "ExecuteTime": {
     "end_time": "2019-10-04T14:19:58.173873Z",
     "start_time": "2019-10-04T14:19:57.389907Z"
    }
   },
   "outputs": [
    {
     "data": {
      "text/plain": [
       "order_detail_id                0\n",
       "order_id                       0\n",
       "order_total_num                0\n",
       "order_amount                   0\n",
       "order_total_payment            0\n",
       "order_total_discount           0\n",
       "order_pay_time                 0\n",
       "order_status                   0\n",
       "order_count                    0\n",
       "is_customer_rate           84867\n",
       "order_detail_status            0\n",
       "order_detail_goods_num         0\n",
       "order_detail_amount        84867\n",
       "order_detail_payment           0\n",
       "order_detail_discount          0\n",
       "customer_province          85516\n",
       "customer_city              85516\n",
       "member_id                      0\n",
       "customer_id                   67\n",
       "customer_gender           849229\n",
       "member_status             849229\n",
       "is_member_actived         849229\n",
       "goods_id                       0\n",
       "goods_price                    0\n",
       "goods_status                   0\n",
       "goods_has_discount             0\n",
       "goods_list_time                0\n",
       "goods_delist_time              0\n",
       "dtype: int64"
      ]
     },
     "execution_count": 17,
     "metadata": {},
     "output_type": "execute_result"
    }
   ],
   "source": [
    "train_x.isnull().sum()"
   ]
  },
  {
   "cell_type": "code",
   "execution_count": 5,
   "metadata": {
    "ExecuteTime": {
     "end_time": "2019-10-05T10:40:39.598256Z",
     "start_time": "2019-10-05T10:40:39.470604Z"
    }
   },
   "outputs": [],
   "source": [
    "customers=train_x['customer_id'].unique()"
   ]
  },
  {
   "cell_type": "code",
   "execution_count": 4,
   "metadata": {
    "ExecuteTime": {
     "end_time": "2019-10-05T15:53:55.124611Z",
     "start_time": "2019-10-05T15:53:54.074927Z"
    }
   },
   "outputs": [],
   "source": [
    "test_x=pd.read_csv('data/round1_diac2019_test.csv')"
   ]
  },
  {
   "cell_type": "code",
   "execution_count": 26,
   "metadata": {
    "ExecuteTime": {
     "end_time": "2019-10-04T14:48:23.338853Z",
     "start_time": "2019-10-04T14:48:23.016711Z"
    }
   },
   "outputs": [
    {
     "data": {
      "text/plain": [
       "929807"
      ]
     },
     "execution_count": 26,
     "metadata": {},
     "output_type": "execute_result"
    }
   ],
   "source": [
    "len(np.intersect1d(test_x['customer_id'],train_x['customer_id']))"
   ]
  },
  {
   "cell_type": "code",
   "execution_count": 33,
   "metadata": {
    "ExecuteTime": {
     "end_time": "2019-10-05T16:23:12.986912Z",
     "start_time": "2019-10-05T16:23:12.918123Z"
    }
   },
   "outputs": [
    {
     "data": {
      "text/plain": [
       "929808"
      ]
     },
     "execution_count": 33,
     "metadata": {},
     "output_type": "execute_result"
    }
   ],
   "source": [
    "len(train_x['customer_id'].unique())"
   ]
  },
  {
   "cell_type": "code",
   "execution_count": 28,
   "metadata": {
    "ExecuteTime": {
     "end_time": "2019-10-05T16:22:36.253829Z",
     "start_time": "2019-10-05T16:22:36.249843Z"
    }
   },
   "outputs": [
    {
     "data": {
      "text/plain": [
       "1400831"
      ]
     },
     "execution_count": 28,
     "metadata": {},
     "output_type": "execute_result"
    }
   ],
   "source": [
    "len(train_x)"
   ]
  },
  {
   "cell_type": "code",
   "execution_count": 11,
   "metadata": {
    "ExecuteTime": {
     "end_time": "2019-10-05T15:55:56.907988Z",
     "start_time": "2019-10-05T15:55:56.902964Z"
    }
   },
   "outputs": [
    {
     "data": {
      "text/plain": [
       "929808"
      ]
     },
     "execution_count": 11,
     "metadata": {},
     "output_type": "execute_result"
    }
   ],
   "source": [
    "len(test_x['customer_id'])"
   ]
  },
  {
   "cell_type": "code",
   "execution_count": 34,
   "metadata": {
    "ExecuteTime": {
     "end_time": "2019-10-05T16:23:51.149571Z",
     "start_time": "2019-10-05T16:23:51.136323Z"
    }
   },
   "outputs": [
    {
     "data": {
      "text/plain": [
       "1"
      ]
     },
     "execution_count": 34,
     "metadata": {},
     "output_type": "execute_result"
    }
   ],
   "source": [
    "test_x['customer_id'].isnull().sum()"
   ]
  },
  {
   "cell_type": "code",
   "execution_count": 31,
   "metadata": {
    "ExecuteTime": {
     "end_time": "2019-10-04T14:58:30.759698Z",
     "start_time": "2019-10-04T14:58:30.598312Z"
    }
   },
   "outputs": [
    {
     "data": {
      "text/plain": [
       "'2013-12-31 23:59:44'"
      ]
     },
     "execution_count": 31,
     "metadata": {},
     "output_type": "execute_result"
    }
   ],
   "source": [
    "train_x['order_pay_time'].max()"
   ]
  },
  {
   "cell_type": "code",
   "execution_count": 13,
   "metadata": {
    "ExecuteTime": {
     "end_time": "2019-10-05T15:56:41.706571Z",
     "start_time": "2019-10-05T15:56:40.448436Z"
    }
   },
   "outputs": [],
   "source": [
    "train_x['order_pay_time'] = pd.to_datetime(train_x['order_pay_time'])"
   ]
  },
  {
   "cell_type": "code",
   "execution_count": 14,
   "metadata": {
    "ExecuteTime": {
     "end_time": "2019-10-05T15:56:41.737487Z",
     "start_time": "2019-10-05T15:56:41.708584Z"
    }
   },
   "outputs": [],
   "source": [
    "train_index=train_x['order_pay_time']<='2013-7-03'\n",
    "test_index=train_x['order_pay_time']>'2013-7-03'"
   ]
  },
  {
   "cell_type": "code",
   "execution_count": 38,
   "metadata": {
    "ExecuteTime": {
     "end_time": "2019-10-05T16:30:19.449346Z",
     "start_time": "2019-10-05T16:30:19.024497Z"
    }
   },
   "outputs": [],
   "source": [
    "train_customers=train_x[train_index]['customer_id'].unique()\n",
    "test_customers=train_x[test_index]['customer_id'].unique()"
   ]
  },
  {
   "cell_type": "code",
   "execution_count": 44,
   "metadata": {
    "ExecuteTime": {
     "end_time": "2019-10-05T16:31:46.634359Z",
     "start_time": "2019-10-05T16:31:46.598437Z"
    }
   },
   "outputs": [],
   "source": [
    "train_customers.sort()\n",
    "test_customers.sort()"
   ]
  },
  {
   "cell_type": "code",
   "execution_count": 45,
   "metadata": {
    "ExecuteTime": {
     "end_time": "2019-10-05T16:31:50.100869Z",
     "start_time": "2019-10-05T16:31:50.007042Z"
    }
   },
   "outputs": [],
   "source": [
    "label=np.isin(train_customers,test_customers)\n",
    "label.astype(int)"
   ]
  },
  {
   "cell_type": "code",
   "execution_count": 46,
   "metadata": {
    "ExecuteTime": {
     "end_time": "2019-10-05T16:31:50.738937Z",
     "start_time": "2019-10-05T16:31:50.732960Z"
    }
   },
   "outputs": [
    {
     "data": {
      "text/plain": [
       "(0.1632087113171638, 0.8367912886828361)"
      ]
     },
     "execution_count": 46,
     "metadata": {},
     "output_type": "execute_result"
    }
   ],
   "source": [
    "np.mean(label),1-np.mean(label)"
   ]
  },
  {
   "cell_type": "code",
   "execution_count": 15,
   "metadata": {
    "ExecuteTime": {
     "end_time": "2019-10-05T15:56:48.624428Z",
     "start_time": "2019-10-05T15:56:44.394744Z"
    }
   },
   "outputs": [],
   "source": [
    "# 购买时间间隔\n",
    "last_time = train_x[train_index].groupby(['customer_id'],as_index=False) ['order_pay_time'].agg({'order_pay_date_last':'max','order_pay_date_first':'min'})\n",
    "last_time['interval']=(last_time['order_pay_date_last']-last_time['order_pay_date_first']).dt.days\n",
    "last_time.drop(columns=['order_pay_date_last','order_pay_date_first'],inplace=True)\n",
    "\n",
    "# 父订单处理\n",
    "order=train_x[train_index].groupby(['customer_id'],as_index=False)['order_total_num','order_amount','order_total_payment'].agg(['mean','max','min'])\n",
    "\n",
    "# 父订单特征\n",
    "order=train_x[train_index].groupby(['customer_id'],as_index=False)['order_total_num','order_amount','order_total_payment'].agg(['mean','max','min'])\n",
    "order.columns = [\"_\".join(x) for x in order.columns.ravel()]\n",
    "order.reset_index(inplace=True)\n",
    "\n",
    "# 子订单特征\n",
    "order_detail=train_x[train_index].groupby(['customer_id'],as_index=False)['order_detail_payment'].agg({'order_detail_payment_mean':'mean','order_detail_payment_max':'max','order_detail_payment_min':'min'})\n",
    "order_detail_goods_num=train_x[train_index].groupby(['customer_id'],as_index=False)['order_detail_goods_num'].agg({'order_detail_goods_num_mean':'mean'})\n",
    "\n",
    "# 商品价格参数\n",
    "good_price = train_x[train_index].groupby(['customer_id'],as_index=False)                   ['goods_price'].agg({'goods_price_max':'max','goods_price_min':'min','goods_price_mean':'mean'}) \n",
    "\n",
    "get_count=lambda x: len(x)  # 半年购买次数\n",
    "counts = train_x[train_index].groupby(['customer_id'],as_index=False)['order_detail_id'].agg({'counts':get_count})"
   ]
  },
  {
   "cell_type": "code",
   "execution_count": 50,
   "metadata": {
    "ExecuteTime": {
     "end_time": "2019-10-05T16:33:18.903255Z",
     "start_time": "2019-10-05T16:33:18.374659Z"
    }
   },
   "outputs": [
    {
     "name": "stderr",
     "output_type": "stream",
     "text": [
      "e:\\Anaconda3\\lib\\site-packages\\scipy\\stats\\stats.py:1713: FutureWarning: Using a non-tuple sequence for multidimensional indexing is deprecated; use `arr[tuple(seq)]` instead of `arr[seq]`. In the future this will be interpreted as an array index, `arr[np.array(seq)]`, which will result either in an error or a different result.\n",
      "  return np.add.reduce(sorted[indexer] * weights, axis=axis) / sumval\n"
     ]
    },
    {
     "data": {
      "image/png": "[encoded data removed]",
      "text/plain": [
       "<Figure size 1008x360 with 1 Axes>"
      ]
     },
     "metadata": {
      "needs_background": "light"
     },
     "output_type": "display_data"
    }
   ],
   "source": [
    "# 频率分布图 加上拟合曲线\n",
    "plt.figure(figsize=(14,5))\n",
    "\n",
    "# g1 = plt.subplot(121)\n",
    "g1 = sns.distplot(train_x['order_detail_amount'].dropna(),\n",
    "                  color='darkgreen')\n",
    "#                   bins  划分数\n",
    "# g1.set_title(\"Price Log distribuition  \", fontsize=20)\n",
    "# g1.set_xlabel(\"Price(Log)\", fontsize=15)\n",
    "# g1.set_ylabel(\"Frequency LOG\", fontsize=15)"
   ]
  },
  {
   "cell_type": "code",
   "execution_count": null,
   "metadata": {},
   "outputs": [],
   "source": []
  },
  {
   "cell_type": "code",
   "execution_count": null,
   "metadata": {},
   "outputs": [],
   "source": []
  },
  {
   "cell_type": "code",
   "execution_count": 46,
   "metadata": {
    "ExecuteTime": {
     "end_time": "2019-10-05T11:42:21.052326Z",
     "start_time": "2019-10-05T11:42:21.038399Z"
    },
    "collapsed": true
   },
   "outputs": [
    {
     "data": {
      "text/html": [
       "<div>\n",
       "<style scoped>\n",
       "    .dataframe tbody tr th:only-of-type {\n",
       "        vertical-align: middle;\n",
       "    }\n",
       "\n",
       "    .dataframe tbody tr th {\n",
       "        vertical-align: top;\n",
       "    }\n",
       "\n",
       "    .dataframe thead th {\n",
       "        text-align: right;\n",
       "    }\n",
       "</style>\n",
       "<table border=\"1\" class=\"dataframe\">\n",
       "  <thead>\n",
       "    <tr style=\"text-align: right;\">\n",
       "      <th></th>\n",
       "      <th>customer_id</th>\n",
       "      <th>counts</th>\n",
       "    </tr>\n",
       "  </thead>\n",
       "  <tbody>\n",
       "    <tr>\n",
       "      <th>0</th>\n",
       "      <td>0.0</td>\n",
       "      <td>1</td>\n",
       "    </tr>\n",
       "    <tr>\n",
       "      <th>1</th>\n",
       "      <td>1.0</td>\n",
       "      <td>1</td>\n",
       "    </tr>\n",
       "    <tr>\n",
       "      <th>2</th>\n",
       "      <td>2.0</td>\n",
       "      <td>1</td>\n",
       "    </tr>\n",
       "    <tr>\n",
       "      <th>3</th>\n",
       "      <td>3.0</td>\n",
       "      <td>1</td>\n",
       "    </tr>\n",
       "    <tr>\n",
       "      <th>4</th>\n",
       "      <td>4.0</td>\n",
       "      <td>1</td>\n",
       "    </tr>\n",
       "    <tr>\n",
       "      <th>5</th>\n",
       "      <td>5.0</td>\n",
       "      <td>1</td>\n",
       "    </tr>\n",
       "    <tr>\n",
       "      <th>6</th>\n",
       "      <td>6.0</td>\n",
       "      <td>19</td>\n",
       "    </tr>\n",
       "    <tr>\n",
       "      <th>7</th>\n",
       "      <td>7.0</td>\n",
       "      <td>5</td>\n",
       "    </tr>\n",
       "    <tr>\n",
       "      <th>8</th>\n",
       "      <td>8.0</td>\n",
       "      <td>5</td>\n",
       "    </tr>\n",
       "    <tr>\n",
       "      <th>9</th>\n",
       "      <td>9.0</td>\n",
       "      <td>1</td>\n",
       "    </tr>\n",
       "    <tr>\n",
       "      <th>10</th>\n",
       "      <td>10.0</td>\n",
       "      <td>7</td>\n",
       "    </tr>\n",
       "    <tr>\n",
       "      <th>11</th>\n",
       "      <td>11.0</td>\n",
       "      <td>2</td>\n",
       "    </tr>\n",
       "    <tr>\n",
       "      <th>12</th>\n",
       "      <td>12.0</td>\n",
       "      <td>8</td>\n",
       "    </tr>\n",
       "    <tr>\n",
       "      <th>13</th>\n",
       "      <td>13.0</td>\n",
       "      <td>1</td>\n",
       "    </tr>\n",
       "    <tr>\n",
       "      <th>14</th>\n",
       "      <td>14.0</td>\n",
       "      <td>4</td>\n",
       "    </tr>\n",
       "    <tr>\n",
       "      <th>15</th>\n",
       "      <td>15.0</td>\n",
       "      <td>2</td>\n",
       "    </tr>\n",
       "    <tr>\n",
       "      <th>16</th>\n",
       "      <td>16.0</td>\n",
       "      <td>1</td>\n",
       "    </tr>\n",
       "    <tr>\n",
       "      <th>17</th>\n",
       "      <td>17.0</td>\n",
       "      <td>8</td>\n",
       "    </tr>\n",
       "    <tr>\n",
       "      <th>18</th>\n",
       "      <td>18.0</td>\n",
       "      <td>1</td>\n",
       "    </tr>\n",
       "    <tr>\n",
       "      <th>19</th>\n",
       "      <td>19.0</td>\n",
       "      <td>5</td>\n",
       "    </tr>\n",
       "    <tr>\n",
       "      <th>20</th>\n",
       "      <td>20.0</td>\n",
       "      <td>1</td>\n",
       "    </tr>\n",
       "    <tr>\n",
       "      <th>21</th>\n",
       "      <td>21.0</td>\n",
       "      <td>1</td>\n",
       "    </tr>\n",
       "    <tr>\n",
       "      <th>22</th>\n",
       "      <td>22.0</td>\n",
       "      <td>2</td>\n",
       "    </tr>\n",
       "    <tr>\n",
       "      <th>23</th>\n",
       "      <td>23.0</td>\n",
       "      <td>1</td>\n",
       "    </tr>\n",
       "    <tr>\n",
       "      <th>24</th>\n",
       "      <td>24.0</td>\n",
       "      <td>1</td>\n",
       "    </tr>\n",
       "    <tr>\n",
       "      <th>25</th>\n",
       "      <td>25.0</td>\n",
       "      <td>1</td>\n",
       "    </tr>\n",
       "    <tr>\n",
       "      <th>26</th>\n",
       "      <td>26.0</td>\n",
       "      <td>2</td>\n",
       "    </tr>\n",
       "    <tr>\n",
       "      <th>27</th>\n",
       "      <td>27.0</td>\n",
       "      <td>6</td>\n",
       "    </tr>\n",
       "    <tr>\n",
       "      <th>28</th>\n",
       "      <td>28.0</td>\n",
       "      <td>4</td>\n",
       "    </tr>\n",
       "    <tr>\n",
       "      <th>29</th>\n",
       "      <td>29.0</td>\n",
       "      <td>1</td>\n",
       "    </tr>\n",
       "    <tr>\n",
       "      <th>...</th>\n",
       "      <td>...</td>\n",
       "      <td>...</td>\n",
       "    </tr>\n",
       "    <tr>\n",
       "      <th>373552</th>\n",
       "      <td>373566.0</td>\n",
       "      <td>1</td>\n",
       "    </tr>\n",
       "    <tr>\n",
       "      <th>373553</th>\n",
       "      <td>373567.0</td>\n",
       "      <td>1</td>\n",
       "    </tr>\n",
       "    <tr>\n",
       "      <th>373554</th>\n",
       "      <td>373568.0</td>\n",
       "      <td>1</td>\n",
       "    </tr>\n",
       "    <tr>\n",
       "      <th>373555</th>\n",
       "      <td>373569.0</td>\n",
       "      <td>2</td>\n",
       "    </tr>\n",
       "    <tr>\n",
       "      <th>373556</th>\n",
       "      <td>373570.0</td>\n",
       "      <td>1</td>\n",
       "    </tr>\n",
       "    <tr>\n",
       "      <th>373557</th>\n",
       "      <td>373571.0</td>\n",
       "      <td>1</td>\n",
       "    </tr>\n",
       "    <tr>\n",
       "      <th>373558</th>\n",
       "      <td>373572.0</td>\n",
       "      <td>1</td>\n",
       "    </tr>\n",
       "    <tr>\n",
       "      <th>373559</th>\n",
       "      <td>373573.0</td>\n",
       "      <td>1</td>\n",
       "    </tr>\n",
       "    <tr>\n",
       "      <th>373560</th>\n",
       "      <td>373574.0</td>\n",
       "      <td>1</td>\n",
       "    </tr>\n",
       "    <tr>\n",
       "      <th>373561</th>\n",
       "      <td>373575.0</td>\n",
       "      <td>1</td>\n",
       "    </tr>\n",
       "    <tr>\n",
       "      <th>373562</th>\n",
       "      <td>373576.0</td>\n",
       "      <td>2</td>\n",
       "    </tr>\n",
       "    <tr>\n",
       "      <th>373563</th>\n",
       "      <td>373577.0</td>\n",
       "      <td>1</td>\n",
       "    </tr>\n",
       "    <tr>\n",
       "      <th>373564</th>\n",
       "      <td>373578.0</td>\n",
       "      <td>1</td>\n",
       "    </tr>\n",
       "    <tr>\n",
       "      <th>373565</th>\n",
       "      <td>373579.0</td>\n",
       "      <td>1</td>\n",
       "    </tr>\n",
       "    <tr>\n",
       "      <th>373566</th>\n",
       "      <td>373580.0</td>\n",
       "      <td>1</td>\n",
       "    </tr>\n",
       "    <tr>\n",
       "      <th>373567</th>\n",
       "      <td>373581.0</td>\n",
       "      <td>1</td>\n",
       "    </tr>\n",
       "    <tr>\n",
       "      <th>373568</th>\n",
       "      <td>373582.0</td>\n",
       "      <td>1</td>\n",
       "    </tr>\n",
       "    <tr>\n",
       "      <th>373569</th>\n",
       "      <td>373583.0</td>\n",
       "      <td>1</td>\n",
       "    </tr>\n",
       "    <tr>\n",
       "      <th>373570</th>\n",
       "      <td>373584.0</td>\n",
       "      <td>1</td>\n",
       "    </tr>\n",
       "    <tr>\n",
       "      <th>373571</th>\n",
       "      <td>375900.0</td>\n",
       "      <td>1</td>\n",
       "    </tr>\n",
       "    <tr>\n",
       "      <th>373572</th>\n",
       "      <td>379015.0</td>\n",
       "      <td>1</td>\n",
       "    </tr>\n",
       "    <tr>\n",
       "      <th>373573</th>\n",
       "      <td>379016.0</td>\n",
       "      <td>1</td>\n",
       "    </tr>\n",
       "    <tr>\n",
       "      <th>373574</th>\n",
       "      <td>379017.0</td>\n",
       "      <td>1</td>\n",
       "    </tr>\n",
       "    <tr>\n",
       "      <th>373575</th>\n",
       "      <td>379061.0</td>\n",
       "      <td>1</td>\n",
       "    </tr>\n",
       "    <tr>\n",
       "      <th>373576</th>\n",
       "      <td>379062.0</td>\n",
       "      <td>1</td>\n",
       "    </tr>\n",
       "    <tr>\n",
       "      <th>373577</th>\n",
       "      <td>379063.0</td>\n",
       "      <td>2</td>\n",
       "    </tr>\n",
       "    <tr>\n",
       "      <th>373578</th>\n",
       "      <td>379117.0</td>\n",
       "      <td>1</td>\n",
       "    </tr>\n",
       "    <tr>\n",
       "      <th>373579</th>\n",
       "      <td>379118.0</td>\n",
       "      <td>1</td>\n",
       "    </tr>\n",
       "    <tr>\n",
       "      <th>373580</th>\n",
       "      <td>542531.0</td>\n",
       "      <td>1</td>\n",
       "    </tr>\n",
       "    <tr>\n",
       "      <th>373581</th>\n",
       "      <td>1387063.0</td>\n",
       "      <td>1</td>\n",
       "    </tr>\n",
       "  </tbody>\n",
       "</table>\n",
       "<p>373582 rows × 2 columns</p>\n",
       "</div>"
      ],
      "text/plain": [
       "        customer_id  counts\n",
       "0               0.0       1\n",
       "1               1.0       1\n",
       "2               2.0       1\n",
       "3               3.0       1\n",
       "4               4.0       1\n",
       "5               5.0       1\n",
       "6               6.0      19\n",
       "7               7.0       5\n",
       "8               8.0       5\n",
       "9               9.0       1\n",
       "10             10.0       7\n",
       "11             11.0       2\n",
       "12             12.0       8\n",
       "13             13.0       1\n",
       "14             14.0       4\n",
       "15             15.0       2\n",
       "16             16.0       1\n",
       "17             17.0       8\n",
       "18             18.0       1\n",
       "19             19.0       5\n",
       "20             20.0       1\n",
       "21             21.0       1\n",
       "22             22.0       2\n",
       "23             23.0       1\n",
       "24             24.0       1\n",
       "25             25.0       1\n",
       "26             26.0       2\n",
       "27             27.0       6\n",
       "28             28.0       4\n",
       "29             29.0       1\n",
       "...             ...     ...\n",
       "373552     373566.0       1\n",
       "373553     373567.0       1\n",
       "373554     373568.0       1\n",
       "373555     373569.0       2\n",
       "373556     373570.0       1\n",
       "373557     373571.0       1\n",
       "373558     373572.0       1\n",
       "373559     373573.0       1\n",
       "373560     373574.0       1\n",
       "373561     373575.0       1\n",
       "373562     373576.0       2\n",
       "373563     373577.0       1\n",
       "373564     373578.0       1\n",
       "373565     373579.0       1\n",
       "373566     373580.0       1\n",
       "373567     373581.0       1\n",
       "373568     373582.0       1\n",
       "373569     373583.0       1\n",
       "373570     373584.0       1\n",
       "373571     375900.0       1\n",
       "373572     379015.0       1\n",
       "373573     379016.0       1\n",
       "373574     379017.0       1\n",
       "373575     379061.0       1\n",
       "373576     379062.0       1\n",
       "373577     379063.0       2\n",
       "373578     379117.0       1\n",
       "373579     379118.0       1\n",
       "373580     542531.0       1\n",
       "373581    1387063.0       1\n",
       "\n",
       "[373582 rows x 2 columns]"
      ]
     },
     "execution_count": 46,
     "metadata": {},
     "output_type": "execute_result"
    }
   ],
   "source": [
    "data = pd.merge(good_price,last_time,on=['customer_id'],how='left',copy=False)\n",
    "data = pd.merge(data,last_time,on=['customer_id'],how='left',copy=False)"
   ]
  }
 ],
 "metadata": {
  "kernelspec": {
   "display_name": "Python 3",
   "language": "python",
   "name": "python3"
  },
  "language_info": {
   "codemirror_mode": {
    "name": "ipython",
    "version": 3
   },
   "file_extension": ".py",
   "mimetype": "text/x-python",
   "name": "python",
   "nbconvert_exporter": "python",
   "pygments_lexer": "ipython3",
   "version": "3.7.1"
  },
  "notify_time": "5",
  "toc": {
   "base_numbering": 1,
   "nav_menu": {},
   "number_sections": true,
   "sideBar": true,
   "skip_h1_title": false,
   "title_cell": "Table of Contents",
   "title_sidebar": "Contents",
   "toc_cell": false,
   "toc_position": {},
   "toc_section_display": true,
   "toc_window_display": false
  }
 },
 "nbformat": 4,
 "nbformat_minor": 2
}
